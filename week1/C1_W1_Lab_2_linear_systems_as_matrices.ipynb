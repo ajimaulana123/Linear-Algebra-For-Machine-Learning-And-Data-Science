{
 "cells": [
  {
   "cell_type": "markdown",
   "id": "560379d3",
   "metadata": {},
   "source": [
    "# Representing Systems of Equations as Matrices"
   ]
  },
  {
   "cell_type": "markdown",
   "id": "f77b4377",
   "metadata": {},
   "source": [
    "By completing this lab, you will be able to use basic programming skills with Python and the [`NumPy`](https://numpy.org/doc/stable/index.html) package to represent systems of linear equations as matrices. In this notebook, you will:\n",
    "\n",
    "- Use the [`NumPy`](https://numpy.org/doc/stable/index.html) linear algebra package to model systems of linear equations as matrices.\n",
    "- Evaluate the determinant of the matrix and examine the relationship between matrix singularity and the number of solutions of the linear system."
   ]
  },
  {
   "cell_type": "markdown",
   "id": "39688a16",
   "metadata": {},
   "source": [
    "# Table of Contents\n",
    "\n",
    "- [ 1 - Representing and Solving System of Linear Equations using Matrices](#1)\n",
    "  - [ 1.1 - System of Linear Equations](#1.1)\n",
    "  - [ 1.2 - Systems of Linear Equations using Matrices](#1.2)\n",
    "  - [ 1.3 - Evaluating Determinant of a Matrix](#1.3)\n",
    "- [ 2 - Visualizing 2x2 Systems as Plotlines](#2)\n",
    "  - [ 2.1 - Elimination Method](#2.1)\n",
    "  - [ 2.2 - Graphical Representation of the Solution](#2.2)\n",
    "- [ 3 - System of Linear Equations with No Solutions](#3)\n",
    "- [ 4 - System of Linear Equations with Infinite Number of Solutions](#4)"
   ]
  },
  {
   "cell_type": "markdown",
   "id": "d6165c13",
   "metadata": {},
   "source": [
    "## Packages\n",
    "\n",
    "Load the `NumPy` package to access its functions. Additionally, load the `matplotlib.pyplot` package, which you will use for creating the plots."
   ]
  },
  {
   "cell_type": "code",
   "execution_count": 1,
   "id": "fa3dcf04",
   "metadata": {},
   "outputs": [],
   "source": [
    "import numpy as np\n",
    "import matplotlib.pyplot as plt\n",
    "from utils import plot_lines"
   ]
  },
  {
   "cell_type": "markdown",
   "id": "3a5552bd",
   "metadata": {},
   "source": [
    "<a name='1'></a>\n",
    "## 1 - Representing System of Linear Equations using Matrices"
   ]
  },
  {
   "cell_type": "markdown",
   "id": "7de33135",
   "metadata": {},
   "source": [
    "<a name='1.1'></a>\n",
    "### 1.1 - System of Linear Equations\n",
    "\n",
    "A **system of linear equations** (or **linear system**) is a collection of one or more linear equations involving the same variables. For example:\n",
    "\n",
    "\n",
    "$$\n",
    "\\begin{cases} \n",
    "-x_1+3x_2=7, \\\\ 3x_1+2x_2=1, \\end{cases}\\tag{1}\n",
    "$$\n",
    "\n",
    "is a system of two equations with two unknown variables $x_1$ and $x_2$. **To solve** a system of linear equations means to find values for the variables $x_1$ and $x_2$ such that all of its equations are simultaneously satisfied.\n",
    "\n",
    "A linear system is **singular** if it has no unique solution, and otherwise, it is said to be **non-singular**."
   ]
  },
  {
   "cell_type": "markdown",
   "id": "stone-century",
   "metadata": {},
   "source": [
    "<a name='1.2'></a>\n",
    "### 1.2 - System of Linear Equations as Matrices\n",
    "In the lecture, you saw that we represented linear systems of equations as matrices. The system $(1)$ represented as a matrix is as follows:\n",
    "\n",
    "$$\n",
    "\\begin{bmatrix}\n",
    "-1 & 3 & 7 \\\\\n",
    "3 & 2 & 1\n",
    "\\end{bmatrix}\n",
    "$$ \n",
    "\n",
    "Each row represents an equation in the system. The first column represents the coefficients of $x_1$ in the system, the second column represents the coefficients of $x_2$, and the third column represents the constant values on the right side of the equals signs in the equations.\n",
    "\n",
    "We could further choose to represent the coefficients of the system $(1)$ as its own matrix $A$ as follows:\n",
    "\n",
    "$$\n",
    "\\begin{bmatrix}\n",
    "-1 & 3\\\\\n",
    "3 & 2\n",
    "\\end{bmatrix}\n",
    "$$\n",
    "\n",
    "and the outputs of the system as a vector $b$ like this:\n",
    "\n",
    "$$\n",
    "\\begin{bmatrix}\n",
    "7 \\\\\n",
    "1\n",
    "\\end{bmatrix}\n",
    "$$\n",
    "\n",
    "We show the matrix $A$ and vector $b$ in `NumPy` below:"
   ]
  },
  {
   "cell_type": "code",
   "execution_count": 2,
   "id": "e5758e1b",
   "metadata": {},
   "outputs": [
    {
     "name": "stdout",
     "output_type": "stream",
     "text": [
      "Matrix A:\n",
      "[[-1.  3.]\n",
      " [ 3.  2.]]\n",
      "\n",
      "Array b:\n",
      "[7. 1.]\n"
     ]
    }
   ],
   "source": [
    "A = np.array([\n",
    "        [-1, 3],\n",
    "        [3, 2]\n",
    "    ], dtype=np.dtype(float))\n",
    "\n",
    "b = np.array([7, 1], dtype=np.dtype(float))\n",
    "\n",
    "print(\"Matrix A:\")\n",
    "print(A)\n",
    "print(\"\\nArray b:\")\n",
    "print(b)"
   ]
  },
  {
   "cell_type": "markdown",
   "id": "cb8d9457",
   "metadata": {},
   "source": [
    "What are the dimensions of matrix $A$ and vector $b$?\n",
    "\n",
    "You can confirm the dimensions of $A$ and $b$ using the `shape` attribute (you can also use `np.shape()` as an alternative)."
   ]
  },
  {
   "cell_type": "code",
   "execution_count": 3,
   "id": "ddc3b411",
   "metadata": {},
   "outputs": [
    {
     "name": "stdout",
     "output_type": "stream",
     "text": [
      "Shape of A: (2, 2)\n",
      "Shape of b: (2,)\n"
     ]
    }
   ],
   "source": [
    "print(f\"Shape of A: {A.shape}\")\n",
    "print(f\"Shape of b: {b.shape}\")\n",
    "\n",
    "# print(f\"Shape of A: {np.shape(A)}\")\n",
    "# print(f\"Shape of A: {np.shape(b)}\")"
   ]
  },
  {
   "cell_type": "markdown",
   "id": "ee2f505f",
   "metadata": {},
   "source": [
    "In the lectures, you manually solved some simple linear systems with two equations. However, you have yet to formalize the approach to solving systems of linear equations. In this lab, we use a handy function to solve the equations.\n",
    "\n",
    "The `NumPy` linear algebra package provides a quick and reliable way to solve systems of linear equations using the function `np.linalg.solve(A, b)`. Here, $A$ is a matrix, as you've seen previously, where each row represents one equation in the system, and each column corresponds to the variables $x_1$ and $x_2$. $b$ is a 1-D array of the free (right side) coefficients. More information about the `np.linalg.solve()` function can be found in the [documentation](https://numpy.org/doc/stable/reference/generated/numpy.linalg.solve.html).\n",
    "\n",
    "To find the solution of the system $(1)$, we will simply use the `np.linalg.solve(A, b)` function. The result will be saved in the 1-D array $x$, where the elements correspond to the values of $x_1$ and $x_2$:"
   ]
  },
  {
   "cell_type": "code",
   "execution_count": 4,
   "id": "5e87fd89",
   "metadata": {},
   "outputs": [
    {
     "name": "stdout",
     "output_type": "stream",
     "text": [
      "Solution: [-1.  2.]\n"
     ]
    }
   ],
   "source": [
    "x = np.linalg.solve(A, b)\n",
    "\n",
    "print(f\"Solution: {x}\")"
   ]
  },
  {
   "cell_type": "markdown",
   "id": "15e5933b",
   "metadata": {},
   "source": [
    "The first column in this output is the solution to the variable $x_1$, and the second column is the solution to the variable $x_2$. Confirm that the solution is correct by substituting these values of $x_1$ and $x_2$ into the original system of equations."
   ]
  },
  {
   "cell_type": "markdown",
   "id": "0720e16c",
   "metadata": {},
   "source": [
    "<a name='1.3'></a>\n",
    "### 1.3 - Evaluating Determinant of a Matrix\n",
    "\n",
    "The matrix $A$ corresponding to the linear system $(1)$ is a **square matrix** - it has the same number of rows and columns. In the case of a square matrix, it is possible to calculate its determinant - a real number which characterizes some properties of the matrix. A linear system containing two (or more) equations with the same number of unknown variables will have one solution if and only if matrix $A$ has a non-zero determinant.\n",
    "\n",
    "In this course, it's useful to calculate properties like the determinant by hand to develop an intuition for how it is calculated, but these calculations are also easily done by a computer.\n",
    "\n",
    "Let's calculate the determinant using the `NumPy` linear algebra package. You can do it with the `np.linalg.det(A)` function. More information about it can be found in [the official documentation](https://numpy.org/doc/stable/reference/generated/numpy.linalg.det.html)."
   ]
  },
  {
   "cell_type": "code",
   "execution_count": 5,
   "id": "6cb492c2",
   "metadata": {},
   "outputs": [
    {
     "name": "stdout",
     "output_type": "stream",
     "text": [
      "Determinant of matrix A: -11.00\n"
     ]
    }
   ],
   "source": [
    "d = np.linalg.det(A)\n",
    "\n",
    "print(f\"Determinant of matrix A: {d:.2f}\")"
   ]
  },
  {
   "cell_type": "markdown",
   "id": "76d5e51f",
   "metadata": {},
   "source": [
    "Note that its value is non-zero, as expected for a system with exactly one solution."
   ]
  },
  {
   "cell_type": "markdown",
   "id": "acoustic-click",
   "metadata": {},
   "source": [
    "<a name='2'></a>\n",
    "## 2 - Visualizing 2x2 Systems as Plotlines"
   ]
  },
  {
   "cell_type": "markdown",
   "id": "otherwise-madness",
   "metadata": {},
   "source": [
    "You can see how easy it is to use contemporary packages to solve linear equations and calculate useful properties of matrices like the determinant. In this section, we will visualize a 2x2 system as plot lines, as you saw in the ungraded plugin."
   ]
  },
  {
   "cell_type": "markdown",
   "id": "678e3bd9",
   "metadata": {},
   "source": [
    "<a name='2.1'></a>\n",
    "### 2.1 - Representation of the system as a matrix\n",
    "\n",
    "Before you visualize the system $(1)$, you would want to represent the system in a matrix with the form:\n",
    "\n",
    "$$\n",
    "\\begin{bmatrix}\n",
    "-1 & 3 & 7 \\\\\n",
    "3 & 2 & 1\n",
    "\\end{bmatrix}\n",
    "$$\n",
    "\n",
    "To do this, you can either create a new matrix with these values or horizontally stack the $A$ and $b$ matrices you created earlier. Note that the `np.hstack()` function will require you to reshape array $b$ before it is stacked, as its current shape is $(2,)$. The code below includes the `.reshape((2, 1))` command to allow the horizontal stack to be completed."
   ]
  },
  {
   "cell_type": "code",
   "execution_count": 6,
   "id": "ba69936f",
   "metadata": {},
   "outputs": [
    {
     "name": "stdout",
     "output_type": "stream",
     "text": [
      "[[-1.  3.  7.]\n",
      " [ 3.  2.  1.]]\n"
     ]
    }
   ],
   "source": [
    "A_system = np.hstack((A, b.reshape((2, 1))))\n",
    "\n",
    "print(A_system)"
   ]
  },
  {
   "cell_type": "markdown",
   "id": "b8d17bbc",
   "metadata": {},
   "source": [
    "Let's review how to extract a row of a matrix, which will help later in performing the required operations with the rows. Remember that indexing of arrays in Python starts from zero, so to extract the second row of a matrix, you need to use the following code:"
   ]
  },
  {
   "cell_type": "code",
   "execution_count": 7,
   "id": "aac1370c",
   "metadata": {},
   "outputs": [
    {
     "name": "stdout",
     "output_type": "stream",
     "text": [
      "[3. 2. 1.]\n"
     ]
    }
   ],
   "source": [
    "print(A_system[1])"
   ]
  },
  {
   "cell_type": "markdown",
   "id": "4ac3d039",
   "metadata": {},
   "source": [
    "<a name='2.2'></a>\n",
    "### 2.2 - Graphical Representation of the Solution\n",
    "\n",
    "A linear equation in two variables (here, $x_1$ and $x_2$) can be represented geometrically by a line in the plane. This is called the **graph of the linear equation**. In the case of the system of two equations, there will be two lines corresponding to each of the equations, and the solution will be the intersection point of those lines.\n",
    "\n",
    "In the following code, you will define a function `plot_lines()` to plot the lines and use it later to represent the solution which you found earlier. Do not worry if the code in the following cell is not clear - at this stage, it is not important to understand."
   ]
  },
  {
   "cell_type": "code",
   "execution_count": 8,
   "id": "5e9ad8c1",
   "metadata": {},
   "outputs": [
    {
     "data": {
      "image/png": "[encoded data removed]",
      "text/plain": [
       "<Figure size 720x720 with 1 Axes>"
      ]
     },
     "metadata": {
      "needs_background": "light"
     },
     "output_type": "display_data"
    }
   ],
   "source": [
    "plot_lines(A_system)"
   ]
  },
  {
   "cell_type": "markdown",
   "id": "homeless-statistics",
   "metadata": {},
   "source": [
    "Notice how the lines intersect at $(x_1,x_2) = (-1, 2)$, the solution to the system of equations."
   ]
  },
  {
   "cell_type": "markdown",
   "id": "696ec734",
   "metadata": {},
   "source": [
    "<a name='3'></a>\n",
    "## 3 - System of Linear Equations with No Solutions\n",
    "\n",
    "Given another system of linear equations:\n",
    "\n",
    "$$\n",
    "\\begin{cases} \n",
    "-x_1+3x_2=7, \\\\ 3x_1-9x_2=1, \\end{cases}\\tag{2}\n",
    "$$\n",
    "\n",
    "Let's find the determinant of the corresponding matrix."
   ]
  },
  {
   "cell_type": "code",
   "execution_count": 9,
   "id": "4780129a",
   "metadata": {},
   "outputs": [
    {
     "name": "stdout",
     "output_type": "stream",
     "text": [
      "Determinant of matrix A_2: 0.00\n"
     ]
    }
   ],
   "source": [
    "A_2 = np.array([\n",
    "        [-1, 3],\n",
    "        [3, -9]\n",
    "    ], dtype=np.dtype(float))\n",
    "\n",
    "b_2 = np.array([7, 1], dtype=np.dtype(float))\n",
    "\n",
    "d_2 = np.linalg.det(A_2)\n",
    "\n",
    "print(f\"Determinant of matrix A_2: {d_2:.2f}\")"
   ]
  },
  {
   "cell_type": "markdown",
   "id": "e60bd6f9",
   "metadata": {},
   "source": [
    "It is equal to zero, thus the system cannot have one unique solution. It will either have infinitely many solutions or none. The consistency of it will depend on the free coefficients (right-side coefficients). You can run the code in the following cell to check that the `np.linalg.solve()` function will give an error due to singularity."
   ]
  },
  {
   "cell_type": "code",
   "execution_count": 10,
   "id": "14f088b4",
   "metadata": {},
   "outputs": [
    {
     "name": "stdout",
     "output_type": "stream",
     "text": [
      "Singular matrix\n"
     ]
    }
   ],
   "source": [
    "try:\n",
    "    x_2 = np.linalg.solve(A_2, b_2)\n",
    "except np.linalg.LinAlgError as err:\n",
    "    print(err)"
   ]
  },
  {
   "cell_type": "markdown",
   "id": "498c259c",
   "metadata": {},
   "source": [
    "Construct the matrix corresponding to this linear system:"
   ]
  },
  {
   "cell_type": "code",
   "execution_count": null,
   "id": "86947dce",
   "metadata": {},
   "outputs": [],
   "source": [
    "A_2_system = np.hstack((A_2, b_2.reshape((2, 1))))\n",
    "print(A_2_system)"
   ]
  },
  {
   "cell_type": "code",
   "execution_count": null,
   "id": "3d204598",
   "metadata": {},
   "outputs": [],
   "source": [
    "plot_lines(A_2_system)"
   ]
  },
  {
   "cell_type": "markdown",
   "id": "registered-grace",
   "metadata": {},
   "source": [
    "As expected, the lines of the two equations are parallel."
   ]
  },
  {
   "cell_type": "markdown",
   "id": "6d4b7fb7",
   "metadata": {},
   "source": [
    "<a name='4'></a>\n",
    "## 4 - System of Linear Equations with an Infinite Number of Solutions\n",
    "\n",
    "By changing the free coefficients of the system $(2)$, you can bring it to consistency:\n",
    "\n",
    "$$\n",
    "\\begin{cases} \n",
    "-x_1+3x_2=7, \\\\ 3x_1-9x_2=-21, \\end{cases}\\tag{3}\n",
    "$$"
   ]
  },
  {
   "cell_type": "code",
   "execution_count": 11,
   "id": "517d4898",
   "metadata": {},
   "outputs": [],
   "source": [
    "b_3 = np.array([7, -21], dtype=np.dtype(float))"
   ]
  },
  {
   "cell_type": "markdown",
   "id": "ad9f41d9",
   "metadata": {},
   "source": [
    "Prepare the new matrix, corresponding to the system $(3)$:"
   ]
  },
  {
   "cell_type": "code",
   "execution_count": 12,
   "id": "8e03845c",
   "metadata": {},
   "outputs": [
    {
     "name": "stdout",
     "output_type": "stream",
     "text": [
      "[[ -1.   3.   7.]\n",
      " [  3.  -9. -21.]]\n"
     ]
    }
   ],
   "source": [
    "A_3_system = np.hstack((A_2, b_3.reshape((2, 1))))\n",
    "print(A_3_system)"
   ]
  },
  {
   "cell_type": "markdown",
   "id": "81b0fc6e",
   "metadata": {},
   "source": [
    "Thus, from the corresponding linear system\n",
    "\n",
    "$$\n",
    "\\begin{cases} \n",
    "-x_1+3x_2=7, \\\\ 0=0, \\end{cases}\\tag{4}\n",
    "$$\n",
    "\n",
    "the solutions of the linear system $(3)$ are:\n",
    "\n",
    "$$\n",
    "x_1=3x_2-7, \\tag{5}\n",
    "$$\n",
    "\n",
    "where $x_2$ is any real number.\n",
    "\n",
    "If you plot the equations of the system, how many lines do you expect to see in the graph now? Check it using the code below:"
   ]
  },
  {
   "cell_type": "code",
   "execution_count": 13,
   "id": "1c8c88c0",
   "metadata": {},
   "outputs": [
    {
     "data": {
      "image/png": "[encoded data removed]",
      "text/plain": [
       "<Figure size 720x720 with 1 Axes>"
      ]
     },
     "metadata": {
      "needs_background": "light"
     },
     "output_type": "display_data"
    }
   ],
   "source": [
    "plot_lines(A_3_system)"
   ]
  }
 ],
 "metadata": {
  "kernelspec": {
   "display_name": "Python 3",
   "language": "python",
   "name": "python3"
  },
  "language_info": {
   "codemirror_mode": {
    "name": "ipython",
    "version": 3
   },
   "file_extension": ".py",
   "mimetype": "text/x-python",
   "name": "python",
   "nbconvert_exporter": "python",
   "pygments_lexer": "ipython3",
   "version": "3.8.8"
  }
 },
 "nbformat": 4,
 "nbformat_minor": 5
}
