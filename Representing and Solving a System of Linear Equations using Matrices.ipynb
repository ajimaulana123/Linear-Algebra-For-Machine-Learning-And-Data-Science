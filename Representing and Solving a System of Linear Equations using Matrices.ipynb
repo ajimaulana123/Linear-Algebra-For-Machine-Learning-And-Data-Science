{
 "cells": [
  {
   "cell_type": "markdown",
   "metadata": {},
   "source": [
    "$$\\begin{cases} \n",
    "4x_1-3x_2+x_3=-10, \\\\ 2x_1+x_2+3x_3=0, \\\\ -x_1+2x_2-5x_3=17, \\end{cases}\\tag{1}$$"
   ]
  },
  {
   "cell_type": "markdown",
   "metadata": {},
   "source": [
    "# Solving Persamaan diata"
   ]
  },
  {
   "cell_type": "code",
   "execution_count": 2,
   "metadata": {},
   "outputs": [],
   "source": [
    "import numpy as np"
   ]
  },
  {
   "cell_type": "markdown",
   "metadata": {},
   "source": [
    "### Bikin Representasi persamaan diatas"
   ]
  },
  {
   "cell_type": "code",
   "execution_count": 3,
   "metadata": {},
   "outputs": [
    {
     "name": "stdout",
     "output_type": "stream",
     "text": [
      "Matrix A:\n",
      "[[ 4. -3.  1.]\n",
      " [ 2.  1.  3.]\n",
      " [-1.  2. -5.]]\n",
      "\n",
      "Array b:\n",
      "[-10.   0.  17.]\n"
     ]
    }
   ],
   "source": [
    "A = np.array([\n",
    "        [4, -3, 1],\n",
    "        [2, 1, 3],\n",
    "        [-1, 2, -5]\n",
    "    ], dtype=np.dtype(float))\n",
    "\n",
    "b = np.array([-10, 0, 17], dtype=np.dtype(float))\n",
    "\n",
    "print(\"Matrix A:\")\n",
    "print(A)\n",
    "print(\"\\nArray b:\")\n",
    "print(b)"
   ]
  },
  {
   "cell_type": "markdown",
   "metadata": {},
   "source": [
    "### Lihat dimensi persamaan"
   ]
  },
  {
   "cell_type": "code",
   "execution_count": 4,
   "metadata": {},
   "outputs": [
    {
     "name": "stdout",
     "output_type": "stream",
     "text": [
      "Shape of A: (3, 3)\n",
      "Shape of b: (3,)\n"
     ]
    }
   ],
   "source": [
    "print(f\"Shape of A: {np.shape(A)}\")\n",
    "print(f\"Shape of b: {np.shape(b)}\")"
   ]
  },
  {
   "cell_type": "markdown",
   "metadata": {},
   "source": [
    "### Solusi persamaan diatas"
   ]
  },
  {
   "cell_type": "code",
   "execution_count": 5,
   "metadata": {},
   "outputs": [
    {
     "name": "stdout",
     "output_type": "stream",
     "text": [
      "Solution: [ 1.  4. -2.]\n"
     ]
    }
   ],
   "source": [
    "x = np.linalg.solve(A, b)\n",
    "\n",
    "print(f\"Solution: {x}\")"
   ]
  },
  {
   "cell_type": "markdown",
   "metadata": {},
   "source": [
    "### Sekarang Kita terapkan pada kasus nyata"
   ]
  },
  {
   "cell_type": "markdown",
   "metadata": {},
   "source": [
    "#### Kasus Nyata: Pembagian Biaya\n",
    "\n",
    "#### Situasi\n",
    "Ada tiga orang (A, B, dan C) yang berbagi biaya sewa rumah dan pengeluaran lainnya:\n",
    "\n",
    "- **Total biaya sewa rumah**: Rp 4.000.000\n",
    "- **A menghabiskan**: Rp 1.000.000 untuk makanan\n",
    "- **B menghabiskan**: Rp 600.000 untuk listrik dan air\n",
    "- **C menghabiskan**: Rp 1.200.000 untuk barang-barang rumah tangga\n",
    "\n",
    "#### Model Persamaan\n",
    "Dari situasi ini, kita menyusun sistem persamaan sebagai berikut:\n",
    "\n",
    "1. \\( x_1 + x_2 + x_3 = 4.000.000 \\)  (Total biaya)\n",
    "2. \\( x_1 - 1.000.000 = 0 \\)  (A mengembalikan biaya makanan)\n",
    "3. \\( x_2 - 600.000 = 0 \\)  (B mengembalikan biaya listrik dan air)\n",
    "4. \\( x_3 - 1.200.000 = 0 \\)  (C mengembalikan biaya barang)\n",
    "\n",
    "#### Sistem Persamaan dalam Bentuk Matriks\n",
    "Matriks koefisien \\( A \\) dan array \\( b \\) dapat ditulis sebagai:\n",
    "\n",
    "#### Matriks Koefisien \\( A \\)\n",
    "\n",
    "\\[\n",
    "A = \n",
    "\\begin{bmatrix}\n",
    "1 & 1 & 1 \\\\\n",
    "1 & 0 & 0 \\\\\n",
    "0 & 1 & 0 \\\\\n",
    "0 & 0 & 1\n",
    "\\end{bmatrix}\n",
    "\\]\n",
    "\n",
    "#### Array \\( b \\)\n",
    "\n",
    "\\[\n",
    "b = \n",
    "\\begin{bmatrix}\n",
    "4.000.000 \\\\\n",
    "1.000.000 \\\\\n",
    "600.000 \\\\\n",
    "1.200.000\n",
    "\\end{bmatrix}\n",
    "\\]\n",
    "\n",
    "#### Langkah-langkah Perhitungan\n",
    "\n",
    "Dari persamaan kedua, kita udah tahu:\n",
    "\n",
    "\\[ x_1 = 1.000.000 \\]\n",
    "\n",
    "Dari persamaan ketiga, kita juga tahu:\n",
    "\n",
    "\\[ x_2 = 600.000 \\]\n",
    "\n",
    "Dan dari persamaan keempat, kita dapat:\n",
    "\n",
    "\\[ x_3 = 1.200.000 \\]\n",
    "\n",
    "Sekarang, kita coba substitusi nilai \\( x_1 \\), \\( x_2 \\), dan \\( x_3 \\) ke dalam persamaan pertama buat cek apakah semua sesuai:\n",
    "\n",
    "#### Substitusi\n",
    "\n",
    "\\[\n",
    "x_1 + x_2 + x_3 = 4.000.000\n",
    "\\]\n",
    "\n",
    "Coba substitusi:\n",
    "\n",
    "\\[\n",
    "1.000.000 + 600.000 + 1.200.000 = 4.000.000\n",
    "\\]\n",
    "\n",
    "#### Hitung\n",
    "\n",
    "\\[\n",
    "1.000.000 + 600.000 = 1.600.000\n",
    "\\]\n",
    "\n",
    "\\[\n",
    "1.600.000 + 1.200.000 = 2.800.000\n",
    "\\]\n",
    "\n",
    "Uh-oh, ini nggak nyampe total Rp 4.000.000!\n",
    "\n",
    "#### Menyesuaikan Kontribusi\n",
    "\n",
    "Karena nilai \\( x_1 \\), \\( x_2 \\), dan \\( x_3 \\) nggak sesuai, kita perlu cari kontribusi yang lebih pas.\n",
    "\n",
    "Kita tahu total biaya yang dibayar A, B, dan C itu Rp 4.000.000. Mari kita coba cara lain!\n",
    "\n",
    "#### Menyusun Kontribusi\n",
    "\n",
    "Dari total, kita bisa hitung kontribusi yang beneran:\n",
    "\n",
    "#### Total kontribusi:\n",
    "\n",
    "\\[\n",
    "x_1 = 1.000.000\n",
    "\\]\n",
    "\n",
    "\\[\n",
    "x_2 = 600.000\n",
    "\\]\n",
    "\n",
    "\\[\n",
    "x_3 = 4.000.000 - (x_1 + x_2)\n",
    "\\]\n",
    "\n",
    "#### Substitusi:\n",
    "\n",
    "\\[\n",
    "x_3 = 4.000.000 - (1.000.000 + 600.000) = 4.000.000 - 1.600.000 = 2.400.000\n",
    "\\]\n",
    "\n",
    "#### Hasil Akhir\n",
    "\n",
    "Jadi, kontribusi yang harus dibayar:\n",
    "\n",
    "- \\( x_1 \\) (A): Rp 1.000.000\n",
    "- \\( x_2 \\) (B): Rp 600.000\n",
    "- \\( x_3 \\) (C): Rp 2.400.000\n"
   ]
  },
  {
   "cell_type": "markdown",
   "metadata": {},
   "source": [
    "#### Mulai Coding"
   ]
  },
  {
   "cell_type": "code",
   "execution_count": 23,
   "metadata": {},
   "outputs": [
    {
     "name": "stdout",
     "output_type": "stream",
     "text": [
      "[[1. 1. 1.]\n",
      " [1. 0. 0.]\n",
      " [0. 1. 0.]]\n"
     ]
    }
   ],
   "source": [
    "# Matriks koefisien\n",
    "cost_distribution_matrix = np.array([\n",
    "    [1, 1, 1],  # Total kontribusi dari A, B, dan C\n",
    "    [1, 0, 0],  # Kontribusi A untuk makanan\n",
    "    [0, 1, 0],  # Kontribusi B untuk listrik dan air\n",
    "], dtype=float)\n",
    "\n",
    "print(cost_distribution_matrix)\n"
   ]
  },
  {
   "cell_type": "code",
   "execution_count": 20,
   "metadata": {},
   "outputs": [
    {
     "name": "stdout",
     "output_type": "stream",
     "text": [
      "[4000000. 1000000.  600000.]\n"
     ]
    }
   ],
   "source": [
    "# Array dari total biaya\n",
    "total_costs = np.array([4_000_000, 1_000_000, 600_000], dtype=float)\n",
    "\n",
    "print(total_costs)"
   ]
  },
  {
   "cell_type": "code",
   "execution_count": 21,
   "metadata": {},
   "outputs": [
    {
     "name": "stdout",
     "output_type": "stream",
     "text": [
      "[1000000.  600000. 2400000.]\n"
     ]
    }
   ],
   "source": [
    "# Menyelesaikan sistem persamaan\n",
    "contributions = np.linalg.solve(cost_distribution_matrix, total_costs)\n",
    "\n",
    "print(contributions)"
   ]
  },
  {
   "cell_type": "code",
   "execution_count": 22,
   "metadata": {},
   "outputs": [
    {
     "name": "stdout",
     "output_type": "stream",
     "text": [
      "2400000.0\n"
     ]
    }
   ],
   "source": [
    "# Menampilkan hasil dengan pemisah ribuan\n",
    "amount_paid_by_A = contributions[0]\n",
    "amount_paid_by_B = contributions[1]\n",
    "amount_paid_by_C = total_costs[0] - amount_paid_by_A - amount_paid_by_B\n",
    "\n",
    "print(amount_paid_by_C)"
   ]
  },
  {
   "cell_type": "code",
   "execution_count": 19,
   "metadata": {},
   "outputs": [
    {
     "name": "stdout",
     "output_type": "stream",
     "text": [
      "Jumlah yang harus dibayar oleh A: 1,000,000.00\n",
      "Jumlah yang harus dibayar oleh B: 600,000.00\n",
      "Jumlah yang harus dibayar oleh C: 2,400,000.00\n"
     ]
    }
   ],
   "source": [
    "# Menggunakan format string untuk menampilkan dengan pemisah ribuan\n",
    "print(f\"Jumlah yang harus dibayar oleh A: {amount_paid_by_A:,.2f}\")\n",
    "print(f\"Jumlah yang harus dibayar oleh B: {amount_paid_by_B:,.2f}\")\n",
    "print(f\"Jumlah yang harus dibayar oleh C: {amount_paid_by_C:,.2f}\")"
   ]
  }
 ],
 "metadata": {
  "kernelspec": {
   "display_name": "Python 3",
   "language": "python",
   "name": "python3"
  },
  "language_info": {
   "codemirror_mode": {
    "name": "ipython",
    "version": 3
   },
   "file_extension": ".py",
   "mimetype": "text/x-python",
   "name": "python",
   "nbconvert_exporter": "python",
   "pygments_lexer": "ipython3",
   "version": "3.12.1"
  }
 },
 "nbformat": 4,
 "nbformat_minor": 2
}
